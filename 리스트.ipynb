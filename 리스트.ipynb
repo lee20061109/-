{
  "nbformat": 4,
  "nbformat_minor": 0,
  "metadata": {
    "colab": {
      "name": "리스트.ipynb",
      "provenance": [],
      "collapsed_sections": [],
      "authorship_tag": "ABX9TyPhGeoYn1AT10iNwnnj/2mz",
      "include_colab_link": true
    },
    "kernelspec": {
      "name": "python3",
      "display_name": "Python 3"
    },
    "language_info": {
      "name": "python"
    }
  },
  "cells": [
    {
      "cell_type": "markdown",
      "metadata": {
        "id": "view-in-github",
        "colab_type": "text"
      },
      "source": [
        "<a href=\"https://colab.research.google.com/github/lee20061109/-/blob/main/%EB%A6%AC%EC%8A%A4%ED%8A%B8.ipynb\" target=\"_parent\"><img src=\"https://colab.research.google.com/assets/colab-badge.svg\" alt=\"Open In Colab\"/></a>"
      ]
    },
    {
      "cell_type": "code",
      "execution_count": 6,
      "metadata": {
        "colab": {
          "base_uri": "https://localhost:8080/"
        },
        "id": "As6Ru2qMZfaP",
        "outputId": "ff13a1b2-6296-4902-8e85-54c4040f7253"
      },
      "outputs": [
        {
          "output_type": "stream",
          "name": "stdout",
          "text": [
            "\n",
            "1\n",
            "4\n",
            "1\n",
            "['a', 'b', 'c']\n",
            "['a', 'b', 'c']\n",
            "life\n"
          ]
        }
      ],
      "source": [
        "a=[1,2,3]\n",
        "print()\n",
        "print(a[0])\n",
        "print(a[0]+a[2])\n",
        "b=[1,2,3,['a','b','c']]\n",
        "print(b[0]);print(b[-1]);print(b[3])\n",
        "c=[1,2,['a','b',['life','is']]]\n",
        "print(c[2][2][0])"
      ]
    },
    {
      "cell_type": "code",
      "source": [
        "a=[1,2,3,4,5]\n",
        "print(a[:2]);print(a[2:]);print(a[1:3])\n",
        "b=[1,2,3,['a','b','c'],4,5]\n",
        "print(b[2:4])\n",
        "print(b[3][:2])"
      ],
      "metadata": {
        "colab": {
          "base_uri": "https://localhost:8080/"
        },
        "id": "CwaPJYKDc4LO",
        "outputId": "ad00db31-fca8-4972-e42b-cf51ab71f90d"
      },
      "execution_count": 11,
      "outputs": [
        {
          "output_type": "stream",
          "name": "stdout",
          "text": [
            "[1, 2]\n",
            "[3, 4, 5]\n",
            "[2, 3]\n",
            "[3, ['a', 'b', 'c']]\n",
            "['a', 'b']\n"
          ]
        }
      ]
    },
    {
      "cell_type": "code",
      "source": [
        "a=[1,2,3,];b=[4,5,6]\n",
        "print(a+b);print(a*3)\n",
        "print(len(a))\n",
        "\n",
        "print(a[2],\"hi\")\n",
        "print(str(a[2])+\"hi\")"
      ],
      "metadata": {
        "colab": {
          "base_uri": "https://localhost:8080/"
        },
        "id": "rASH8AQXc4eO",
        "outputId": "a1e8556d-2ebb-4c2a-e6ca-c57d20573bff"
      },
      "execution_count": 18,
      "outputs": [
        {
          "output_type": "stream",
          "name": "stdout",
          "text": [
            "[1, 2, 3, 4, 5, 6]\n",
            "[1, 2, 3, 1, 2, 3, 1, 2, 3]\n",
            "3\n",
            "3 hi\n",
            "3hi\n"
          ]
        }
      ]
    },
    {
      "cell_type": "code",
      "source": [
        "a=[1,2,3,4,5]\n",
        "a[2]=7\n",
        "print(a)\n",
        "\n",
        "del a[1];print(a)\n",
        "del a[2:];print(a)"
      ],
      "metadata": {
        "colab": {
          "base_uri": "https://localhost:8080/"
        },
        "id": "pJ5ueveqc4-d",
        "outputId": "5f1b3302-f07c-4fbf-9121-69bee2899be3"
      },
      "execution_count": 21,
      "outputs": [
        {
          "output_type": "stream",
          "name": "stdout",
          "text": [
            "[1, 2, 7, 4, 5]\n",
            "[1, 7, 4, 5]\n",
            "[1, 7]\n"
          ]
        }
      ]
    },
    {
      "cell_type": "code",
      "source": [
        "a=[1,2,3];\n",
        "a.append(4);print(a)\n",
        "\n",
        "b=[1,4,3,2]\n",
        "b.sort(reverse=True); print(a)\n",
        "c=['a','b','c']\n",
        "print(c);c.sort();print(c)\n",
        "\n",
        "d=['a','b','c']\n",
        "print(d); d.reverse(); print(d)"
      ],
      "metadata": {
        "colab": {
          "base_uri": "https://localhost:8080/"
        },
        "id": "BBZ4zUBTc5OV",
        "outputId": "0e6912af-527d-43d8-d21d-3cf02843952d"
      },
      "execution_count": 28,
      "outputs": [
        {
          "output_type": "stream",
          "name": "stdout",
          "text": [
            "[1, 2, 3, 4]\n",
            "[1, 2, 3, 4]\n",
            "['a', 'b', 'c']\n",
            "['a', 'b', 'c']\n",
            "['a', 'b', 'c']\n",
            "['c', 'b', 'a']\n"
          ]
        }
      ]
    },
    {
      "cell_type": "code",
      "source": [
        "a=[1,2,3]\n",
        "insert(0,4);print(a)\n",
        "insert(3,5);print(a)\n",
        "\n",
        "b=[1,2,3,1,2,3]\n",
        "remove(3);"
      ],
      "metadata": {
        "id": "-o3Cnl3Oc5fo"
      },
      "execution_count": null,
      "outputs": []
    },
    {
      "cell_type": "code",
      "source": [
        "a=[1,2,3,4,1,2,3]\n",
        "print(a.count(1)); print(a.count(4))\n",
        "\n",
        "b=[1,2,3]\n",
        "b.extend([4,5,6,7]); print(b)\n",
        "b.extend([1,2]); print(b)\n",
        "c=[1,2,3]\n",
        "c += [4,5]; print(a)"
      ],
      "metadata": {
        "colab": {
          "base_uri": "https://localhost:8080/"
        },
        "id": "QlohX14DkxWK",
        "outputId": "b6533bf3-3b12-4d62-f9da-0bc29d245534"
      },
      "execution_count": 29,
      "outputs": [
        {
          "output_type": "stream",
          "name": "stdout",
          "text": [
            "2\n",
            "1\n",
            "[1, 2, 3, 4, 5, 6, 7]\n",
            "[1, 2, 3, 4, 5, 6, 7, 1, 2]\n",
            "[1, 2, 3, 4, 1, 2, 3]\n"
          ]
        }
      ]
    },
    {
      "cell_type": "code",
      "source": [
        "t1=(1,2,'a','b')\n",
        "\n",
        "print(t1[0],t1[3])\n",
        "\n",
        "print(t1[1:])\n",
        "\n",
        "t2=(3,4); print(t1+t2)\n",
        "\n",
        "print(t2*3)\n",
        "\n",
        "print(len(t1),len(t2))\n",
        "\n",
        "print(t2+(5,))"
      ],
      "metadata": {
        "colab": {
          "base_uri": "https://localhost:8080/"
        },
        "id": "quvtlPvHc5zF",
        "outputId": "a8b46e0e-0b64-49e6-94ef-0dd7a3bd6ffc"
      },
      "execution_count": 30,
      "outputs": [
        {
          "output_type": "stream",
          "name": "stdout",
          "text": [
            "1 b\n",
            "(2, 'a', 'b')\n",
            "(1, 2, 'a', 'b', 3, 4)\n",
            "(3, 4, 3, 4, 3, 4)\n",
            "4 2\n",
            "(3, 4, 5)\n"
          ]
        }
      ]
    },
    {
      "cell_type": "code",
      "source": [
        "a={1:'a'}; print(a)\n",
        "a[2]='b';print(a)\n",
        "a['name']='duk';print(a)\n",
        "a[3]=[1,2,3]; print(a)"
      ],
      "metadata": {
        "colab": {
          "base_uri": "https://localhost:8080/"
        },
        "id": "Ebxf84Ldk39w",
        "outputId": "f2c7a5d4-ad63-42f5-91ae-5fef22c6817d"
      },
      "execution_count": 31,
      "outputs": [
        {
          "output_type": "stream",
          "name": "stdout",
          "text": [
            "{1: 'a'}\n",
            "{1: 'a', 2: 'b'}\n",
            "{1: 'a', 2: 'b', 'name': 'duk'}\n",
            "{1: 'a', 2: 'b', 'name': 'duk', 3: [1, 2, 3]}\n"
          ]
        }
      ]
    },
    {
      "cell_type": "code",
      "source": [
        "a={}"
      ],
      "metadata": {
        "id": "l4W-ra4Sk4OW"
      },
      "execution_count": null,
      "outputs": []
    }
  ]
}
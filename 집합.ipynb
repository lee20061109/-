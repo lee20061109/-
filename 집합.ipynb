{
  "cells": [
    {
      "cell_type": "markdown",
      "metadata": {
        "id": "view-in-github",
        "colab_type": "text"
      },
      "source": [
        "<a href=\"https://colab.research.google.com/github/lee20061109/-/blob/main/%EC%A7%91%ED%95%A9.ipynb\" target=\"_parent\"><img src=\"https://colab.research.google.com/assets/colab-badge.svg\" alt=\"Open In Colab\"/></a>"
      ]
    },
    {
      "cell_type": "code",
      "execution_count": null,
      "metadata": {
        "colab": {
          "base_uri": "https://localhost:8080/"
        },
        "id": "9N9CVOifTX4M",
        "outputId": "d058a573-3ea6-4b55-f4cb-11cfb95a9cd4"
      },
      "outputs": [
        {
          "name": "stdout",
          "output_type": "stream",
          "text": [
            "set()\n",
            "{1, 2, 3}\n",
            "{'o', 'l', 'H', 'e'}\n",
            "[1, 2, 3]\n",
            "(1, 2, 3)\n"
          ]
        }
      ],
      "source": [
        "s=set(); print(s)\n",
        "s1=set([1,2,3]);print(s1)\n",
        "s2=set(\"Hello\");print(s2)\n",
        "l1=list(s1);print(l1)\n",
        "t1=tuple(s1);print(t1)"
      ]
    },
    {
      "cell_type": "code",
      "execution_count": null,
      "metadata": {
        "colab": {
          "base_uri": "https://localhost:8080/"
        },
        "id": "sB9npE49U4d7",
        "outputId": "c23d0357-e1f4-4c01-f896-e41a599b70ef"
      },
      "outputs": [
        {
          "name": "stdout",
          "output_type": "stream",
          "text": [
            "{4, 5, 6}\n",
            "{4, 5, 6}\n",
            "{1, 2, 3, 4, 5, 6, 7, 8, 9}\n",
            "{1, 2, 3, 4, 5, 6, 7, 8, 9}\n",
            "{1, 2, 3}\n",
            "{1, 2, 3}\n"
          ]
        }
      ],
      "source": [
        "s1=set([1,2,3,4,5,6])\n",
        "s2=set([4,5,6,7,8,9])\n",
        "print(s1&s2)\n",
        "print(s1.intersection(s2))\n",
        "print(s1|s2)\n",
        "print(s1.union(s2))\n",
        "print(s1-s2)\n",
        "print(s1.difference(s2))"
      ]
    },
    {
      "cell_type": "code",
      "execution_count": null,
      "metadata": {
        "colab": {
          "base_uri": "https://localhost:8080/"
        },
        "id": "GH574R5zU4nX",
        "outputId": "d5b1b4e3-ba5a-474b-dd2a-56a5d75e5953"
      },
      "outputs": [
        {
          "name": "stdout",
          "output_type": "stream",
          "text": [
            "{1, 2, 3}\n",
            "{1, 2, 3, 4}\n",
            "{1, 2, 3}\n",
            "{1, 2, 3, 4, 5, 6}\n",
            "{1, 2, 3, 5, 6}\n"
          ]
        }
      ],
      "source": [
        "s1=set([1,2,3]);print(s1)\n",
        "s1.add(4);print(s1)\n",
        "s1=set([1,2,3]);print(s1)\n",
        "s1.update([4,5,6]);print(s1)\n",
        "s1.remove(4) ; print(s1)"
      ]
    },
    {
      "cell_type": "code",
      "execution_count": null,
      "metadata": {
        "colab": {
          "base_uri": "https://localhost:8080/"
        },
        "id": "uxcduFWXU455",
        "outputId": "8c0c8528-63ea-4abe-893e-6f90aef439c5"
      },
      "outputs": [
        {
          "name": "stdout",
          "output_type": "stream",
          "text": [
            "[1, 2, 3] [1, 2, 3]\n",
            "140501242781120 140501242781120\n",
            "True\n",
            "[1, 4, 3] [1, 4, 3]\n",
            "\n",
            "[1, 2, 3] [1, 2, 3]\n",
            "140501242884176 140501242778640\n",
            "False\n",
            "[1, 4, 3] [1, 2, 3]\n"
          ]
        }
      ],
      "source": [
        "a=[1,2,3] ; b=a ; print(a, b) \n",
        "print(id(a), id(b)) \n",
        "print(a is b) \n",
        "a[1]=4 ; print(a, b) \n",
        "print()\n",
        "a=[1,2,3] ; b=a[:] ; print(a, b) \n",
        "print(id(a), id(b)) \n",
        "print(a is b) \n",
        "a[1]=4 ; print(a, b)"
      ]
    },
    {
      "cell_type": "code",
      "execution_count": null,
      "metadata": {
        "colab": {
          "base_uri": "https://localhost:8080/"
        },
        "id": "PefjvtFUU5Fo",
        "outputId": "7b730b3a-cf39-4518-fad0-de6ba0fe8be7"
      },
      "outputs": [
        {
          "output_type": "stream",
          "name": "stdout",
          "text": [
            "False\n",
            "140501243606432 140501243715824\n"
          ]
        }
      ],
      "source": [
        "from copy import copy \n",
        "a=[1,2,3] \n",
        "b=copy(a) \n",
        "print(a is b) \n",
        "print(id(a), id(b))"
      ]
    },
    {
      "cell_type": "code",
      "execution_count": null,
      "metadata": {
        "id": "iz3TE08mU5Mn",
        "colab": {
          "base_uri": "https://localhost:8080/"
        },
        "outputId": "37112b4d-fa2b-41f3-eb2f-6db0faaf8174"
      },
      "outputs": [
        {
          "output_type": "stream",
          "name": "stdout",
          "text": [
            "택시를 타고 가라\n",
            "걸어 가라\n",
            "택시를 타고 가라\n"
          ]
        }
      ],
      "source": [
        "money = True \n",
        "if money : \n",
        " print(\"택시를 타고 가라\") \n",
        " \n",
        "money = 2000 \n",
        "if money >=3000 : \n",
        " print(\"택시를 타고 가라\") \n",
        "else : \n",
        " print(\"걸어 가라\") \n",
        " \n",
        "money = 2000; card = True \n",
        "if money >=3000 or card : \n",
        " print(\"택시를 타고 가라\") \n",
        "else : \n",
        " print(\"걸어 가라\")"
      ]
    },
    {
      "cell_type": "code",
      "execution_count": null,
      "metadata": {
        "id": "R_3nRAoHU5Si"
      },
      "outputs": [],
      "source": [
        "print(1 in [1,2,3]) \n",
        "print('a' not in ('a','b','c')) \n",
        "print('y' in 'python') \n",
        " \n",
        "pocket =['paper','phone','money'] \n",
        "if 'money' in pocket : \n",
        " print(\"택시를 타고 가라\") \n",
        "else : \n",
        " print(\"걸어 가라\") \n",
        " \n",
        "pocket =['paper','phone','card'] \n",
        "if 'money' in pocket : \n",
        " pass \n",
        "else : \n",
        " print(\"카드를 꺼내라\")"
      ]
    },
    {
      "cell_type": "code",
      "execution_count": null,
      "metadata": {
        "id": "G07CF9qpU6Gr",
        "colab": {
          "base_uri": "https://localhost:8080/",
          "height": 137
        },
        "outputId": "57d7081b-730c-4dc9-9bf3-e507db6c6446"
      },
      "outputs": [
        {
          "output_type": "error",
          "ename": "SyntaxError",
          "evalue": "ignored",
          "traceback": [
            "\u001b[0;36m  File \u001b[0;32m\"<ipython-input-28-7553ca06284f>\"\u001b[0;36m, line \u001b[0;32m6\u001b[0m\n\u001b[0;31m    else:\u001b[0m\n\u001b[0m       ^\u001b[0m\n\u001b[0;31mSyntaxError\u001b[0m\u001b[0;31m:\u001b[0m invalid syntax\n"
          ]
        }
      ],
      "source": [
        "pocket=['paper','phone'];card=True\n",
        "if'money' in pocket:\n",
        "  print(\"택시를 타고 현금 결제\")\n",
        "elif card:\n",
        "  print(\"택시를 타고 카드 결제\")\n",
        "  else:\n",
        "    print(\"걸어가라\")\n"
      ]
    },
    {
      "cell_type": "code",
      "execution_count": null,
      "metadata": {
        "id": "uIjkfmscU6NJ",
        "colab": {
          "base_uri": "https://localhost:8080/"
        },
        "outputId": "e7fe6b19-2553-4090-9fa5-02aa3d26692e"
      },
      "outputs": [
        {
          "output_type": "stream",
          "name": "stdout",
          "text": [
            "success\n"
          ]
        }
      ],
      "source": [
        "score = 90 \n",
        "if score >= 60 : \n",
        " message = 'success' \n",
        "else : \n",
        " message = 'fail' \n",
        "print(message)"
      ]
    },
    {
      "cell_type": "code",
      "source": [
        "i=1;sum=0 \n",
        "while i<=10 : \n",
        " sum = sum + i # sum += i \n",
        " print(i,sum) \n",
        " i=i+1 \n",
        "print('1부터 10까지의 합 :', sum) \n",
        "print() \n",
        "sum=0 \n",
        "for i in range(1,11) : \n",
        " sum=sum+i \n",
        " print(i,sum) \n",
        "print('1부터 10까지의 합 :',sum)"
      ],
      "metadata": {
        "id": "0dc8Onvia90V",
        "colab": {
          "base_uri": "https://localhost:8080/"
        },
        "outputId": "48895ed4-fcde-446f-f78f-54eef55129f3"
      },
      "execution_count": null,
      "outputs": [
        {
          "output_type": "stream",
          "name": "stdout",
          "text": [
            "1 1\n",
            "2 3\n",
            "3 6\n",
            "4 10\n",
            "5 15\n",
            "6 21\n",
            "7 28\n",
            "8 36\n",
            "9 45\n",
            "10 55\n",
            "1부터 10까지의 합 : 55\n",
            "\n",
            "1 1\n",
            "2 3\n",
            "3 6\n",
            "4 10\n",
            "5 15\n",
            "6 21\n",
            "7 28\n",
            "8 36\n",
            "9 45\n",
            "10 55\n",
            "1부터 10까지의 합 : 55\n"
          ]
        }
      ]
    },
    {
      "cell_type": "code",
      "source": [
        "sum=0 \n",
        "for k in range(1,11,2) : \n",
        " sum=sum+k \n",
        " print(k,sum) \n",
        "print('1부터 10까지의 홀수 합 :',sum) \n",
        "print()\n",
        "\n",
        "sum=0 \n",
        "for k in range(2,11,2) : \n",
        " sum=sum+k \n",
        " print(k,sum) \n",
        "print('1부터 10까지의 짝수 합 :',sum)"
      ],
      "metadata": {
        "colab": {
          "base_uri": "https://localhost:8080/"
        },
        "id": "YCHdfdlAiSGp",
        "outputId": "82ba3234-e837-4bc5-8796-432fa8268616"
      },
      "execution_count": null,
      "outputs": [
        {
          "output_type": "stream",
          "name": "stdout",
          "text": [
            "1 1\n",
            "3 4\n",
            "5 9\n",
            "7 16\n",
            "9 25\n",
            "1부터 10까지의 홀수 합 : 25\n",
            "\n",
            "2 2\n",
            "4 6\n",
            "6 12\n",
            "8 20\n",
            "10 30\n",
            "1부터 10까지의 짝수 합 : 30\n"
          ]
        }
      ]
    },
    {
      "cell_type": "code",
      "source": [
        "a=[1,2,3,4,5] \n",
        "while a : \n",
        " a.pop() \n",
        " print(a) \n",
        " if len(a)==2 : break \n",
        "print()\n",
        "\n",
        "a=0 \n",
        "while a<10 : \n",
        " a=a+1 \n",
        " if a%2 == 0 : continue \n",
        " print(a)"
      ],
      "metadata": {
        "colab": {
          "base_uri": "https://localhost:8080/"
        },
        "id": "oD4iWTfkiWr1",
        "outputId": "b7b4b963-ee02-41d4-af0f-ddcbc115eb8f"
      },
      "execution_count": null,
      "outputs": [
        {
          "output_type": "stream",
          "name": "stdout",
          "text": [
            "[1, 2, 3, 4]\n",
            "[1, 2, 3]\n",
            "[1, 2]\n",
            "\n",
            "1\n",
            "3\n",
            "5\n",
            "7\n",
            "9\n"
          ]
        }
      ]
    },
    {
      "cell_type": "code",
      "source": [
        "a=0\n",
        "while True:\n",
        "  a=a+1\n",
        "  print(a)\n",
        "if a >= 10  : break\n",
        "print(\"이젠그만\")"
      ],
      "metadata": {
        "id": "QPRTuVzWiXO-"
      },
      "execution_count": null,
      "outputs": []
    },
    {
      "cell_type": "code",
      "source": [
        ""
      ],
      "metadata": {
        "id": "k0g2ErCOiXkj"
      },
      "execution_count": null,
      "outputs": []
    },
    {
      "cell_type": "code",
      "source": [
        ""
      ],
      "metadata": {
        "id": "34T1TG60iX08"
      },
      "execution_count": null,
      "outputs": []
    },
    {
      "cell_type": "code",
      "source": [
        ""
      ],
      "metadata": {
        "id": "ODPM-aNMa9gh"
      },
      "execution_count": null,
      "outputs": []
    },
    {
      "cell_type": "code",
      "source": [
        ""
      ],
      "metadata": {
        "id": "LTQuO4f6a9Hv"
      },
      "execution_count": null,
      "outputs": []
    }
  ],
  "metadata": {
    "colab": {
      "collapsed_sections": [],
      "name": "집합.ipynb",
      "provenance": [],
      "authorship_tag": "ABX9TyPeMXE0SpzUptPRxzK8+6oQ",
      "include_colab_link": true
    },
    "kernelspec": {
      "display_name": "Python 3",
      "name": "python3"
    },
    "language_info": {
      "name": "python"
    }
  },
  "nbformat": 4,
  "nbformat_minor": 0
}
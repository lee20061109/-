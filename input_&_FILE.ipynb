{
  "nbformat": 4,
  "nbformat_minor": 0,
  "metadata": {
    "colab": {
      "name": "input & FILE.ipynb",
      "provenance": [],
      "collapsed_sections": [],
      "authorship_tag": "ABX9TyP1us+jY5nsKVFN9nJl0o8e",
      "include_colab_link": true
    },
    "kernelspec": {
      "name": "python3",
      "display_name": "Python 3"
    },
    "language_info": {
      "name": "python"
    }
  },
  "cells": [
    {
      "cell_type": "markdown",
      "metadata": {
        "id": "view-in-github",
        "colab_type": "text"
      },
      "source": [
        "<a href=\"https://colab.research.google.com/github/lee20061109/-/blob/main/input_%26_FILE.ipynb\" target=\"_parent\"><img src=\"https://colab.research.google.com/assets/colab-badge.svg\" alt=\"Open In Colab\"/></a>"
      ]
    },
    {
      "cell_type": "code",
      "execution_count": 5,
      "metadata": {
        "id": "g2JqZjbHZ71s",
        "colab": {
          "base_uri": "https://localhost:8080/",
          "height": 248
        },
        "outputId": "4981918c-7ba1-45ab-fde7-645f4072d4a6"
      },
      "outputs": [
        {
          "output_type": "stream",
          "name": "stdout",
          "text": [
            "100\n",
            "<class 'int'>\n"
          ]
        },
        {
          "output_type": "error",
          "ename": "NameError",
          "evalue": "ignored",
          "traceback": [
            "\u001b[0;31m---------------------------------------------------------------------------\u001b[0m",
            "\u001b[0;31mNameError\u001b[0m                                 Traceback (most recent call last)",
            "\u001b[0;32m<ipython-input-5-73e09e6146bd>\u001b[0m in \u001b[0;36m<module>\u001b[0;34m()\u001b[0m\n\u001b[1;32m      2\u001b[0m \u001b[0ma\u001b[0m\u001b[0;34m=\u001b[0m\u001b[0mint\u001b[0m\u001b[0;34m(\u001b[0m\u001b[0minput\u001b[0m\u001b[0;34m(\u001b[0m\u001b[0;34m)\u001b[0m\u001b[0;34m)\u001b[0m\u001b[0;34m\u001b[0m\u001b[0;34m\u001b[0m\u001b[0m\n\u001b[1;32m      3\u001b[0m \u001b[0mprint\u001b[0m\u001b[0;34m(\u001b[0m\u001b[0mtype\u001b[0m\u001b[0;34m(\u001b[0m\u001b[0ma\u001b[0m\u001b[0;34m)\u001b[0m\u001b[0;34m)\u001b[0m\u001b[0;34m\u001b[0m\u001b[0;34m\u001b[0m\u001b[0m\n\u001b[0;32m----> 4\u001b[0;31m \u001b[0mc\u001b[0m\u001b[0;34m=\u001b[0m\u001b[0ma\u001b[0m\u001b[0;34m+\u001b[0m\u001b[0mb\u001b[0m\u001b[0;34m;\u001b[0m \u001b[0mprint\u001b[0m\u001b[0;34m(\u001b[0m\u001b[0mC\u001b[0m\u001b[0;34m)\u001b[0m\u001b[0;34m\u001b[0m\u001b[0;34m\u001b[0m\u001b[0m\n\u001b[0m",
            "\u001b[0;31mNameError\u001b[0m: name 'C' is not defined"
          ]
        }
      ],
      "source": [
        "b=10\n",
        "a=int(input())\n",
        "print(type(a))\n",
        "c=a+b; print(C)"
      ]
    },
    {
      "cell_type": "code",
      "source": [
        "# 여러 개 값을 받아 리스트에 저장하기 \n",
        "a = input('값을 3개 입력해 주세요(ex:1 2 3) ') \n",
        "print(a) \n",
        "b=list(a.split(' ')) \n",
        "print(b);print(type(b)) \n",
        "# 문자데이터를 정수로 바꾸기 \n",
        "int_b=[int(k) for k in b] \n",
        "print(int_b)"
      ],
      "metadata": {
        "colab": {
          "base_uri": "https://localhost:8080/"
        },
        "id": "aoo6ITMjoCpD",
        "outputId": "da94a77a-8bb5-4f8e-d0ec-ec8f0ef21482"
      },
      "execution_count": 4,
      "outputs": [
        {
          "output_type": "stream",
          "name": "stdout",
          "text": [
            "값을 3개 입력해 주세요(ex:1 2 3) 1 2 3\n",
            "1 2 3\n",
            "['1', '2', '3']\n",
            "<class 'list'>\n",
            "[1, 2, 3]\n"
          ]
        }
      ]
    },
    {
      "cell_type": "code",
      "source": [
        "f=open(\"a tax\",'w')\n",
        "f.close()"
      ],
      "metadata": {
        "id": "KDeDV-lUo3mT"
      },
      "execution_count": 7,
      "outputs": []
    },
    {
      "cell_type": "code",
      "source": [
        "f = open(\"a.txt\",'w') \n",
        "for i in range(1,6) : \n",
        " data = \"%d 번째 줄입니다.\\n\" % i \n",
        " f.write(data) \n",
        "f.close()"
      ],
      "metadata": {
        "id": "BJvjFELTo34r"
      },
      "execution_count": 14,
      "outputs": []
    },
    {
      "cell_type": "code",
      "source": [
        "#모든 줄 읽고 화면 출력 \n",
        "f = open(\"a.txt\" target=\"_blank\" style=\"text-decoration: underline;\">a.txt\",'r') \n",
        "lines = f.readlines\" target=\"_blank\" style=\"text-decoration: underline;\">f.readlines() \n",
        "for line in lines : \n",
        "  print(line) \n",
        "f.close\" target=\"_blank\" style=\"text-decoration: underline;\">f.close() \n",
        "\n",
        "#read 함수 사용 \n",
        "f = open(\"a.txt\",'r') \n",
        "data = f.read() \n",
        "print(data) \n",
        "f.close()"
      ],
      "metadata": {
        "colab": {
          "base_uri": "https://localhost:8080/",
          "height": 137
        },
        "id": "f77V8IRxo7cD",
        "outputId": "169564ed-0296-41df-edf0-64aaae02143d"
      },
      "execution_count": 24,
      "outputs": [
        {
          "output_type": "error",
          "ename": "SyntaxError",
          "evalue": "ignored",
          "traceback": [
            "\u001b[0;36m  File \u001b[0;32m\"<ipython-input-24-b350b9a3adcc>\"\u001b[0;36m, line \u001b[0;32m2\u001b[0m\n\u001b[0;31m    f = open(\"a.txt\" target=\"_blank\" style=\"text-decoration: underline;\">a.txt\",'r')\u001b[0m\n\u001b[0m                          ^\u001b[0m\n\u001b[0;31mSyntaxError\u001b[0m\u001b[0;31m:\u001b[0m invalid syntax\n"
          ]
        }
      ]
    },
    {
      "cell_type": "code",
      "source": [
        "#파일에 새로운 내용 추가하기 \n",
        "f = open(\"a.txt\",'a') \n",
        "for i in range(6,8) : \n",
        " data = \"%d 번째 줄입니다.\\n\" % i \n",
        " f.write(data) \n",
        "f.close()"
      ],
      "metadata": {
        "id": "NzDZo3lAo8qR"
      },
      "execution_count": 27,
      "outputs": []
    },
    {
      "cell_type": "code",
      "source": [
        "#파일에 새로운 내용 한번 더 추가하기 \n",
        "f = open(\"a.txt\",'a') \n",
        "for i in range(8,11) : \n",
        " data = \"%d 번째 줄입니다.\\n\" % i \n",
        " f.write(data) \n",
        "f.close()"
      ],
      "metadata": {
        "id": "hKK-8F1zvy5w"
      },
      "execution_count": 26,
      "outputs": []
    },
    {
      "cell_type": "code",
      "source": [
        "# 파일을 열고 닫기 자동 with \n",
        "with open(\"a.txt\" target=\"_blank\" style=\"text-decoration: underline;\">a.txt\",'a') as f : \n",
        " f.write\" target=\"_blank\" style=\"text-decoration: underline;\">f.write(\"python\") \n",
        " f.write(\" is good!!!\") \n",
        " \n",
        "with open(\"a.txt\",'r') as f : \n",
        " data = f.read() \n",
        " print(data)"
      ],
      "metadata": {
        "colab": {
          "base_uri": "https://localhost:8080/",
          "height": 137
        },
        "id": "RDYBcSl2vz_R",
        "outputId": "caacddb8-c9ef-46ac-8ff5-5d94a280c1c5"
      },
      "execution_count": 25,
      "outputs": [
        {
          "output_type": "error",
          "ename": "SyntaxError",
          "evalue": "ignored",
          "traceback": [
            "\u001b[0;36m  File \u001b[0;32m\"<ipython-input-25-f54876d3999a>\"\u001b[0;36m, line \u001b[0;32m2\u001b[0m\n\u001b[0;31m    with open(\"a.txt\" target=\"_blank\" style=\"text-decoration: underline;\">a.txt\",'a') as f :\u001b[0m\n\u001b[0m                           ^\u001b[0m\n\u001b[0;31mSyntaxError\u001b[0m\u001b[0;31m:\u001b[0m invalid syntax\n"
          ]
        }
      ]
    }
  ]
}
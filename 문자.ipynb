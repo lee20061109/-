{
  "nbformat": 4,
  "nbformat_minor": 0,
  "metadata": {
    "colab": {
      "name": "문자.ipynb",
      "provenance": [],
      "collapsed_sections": [],
      "authorship_tag": "ABX9TyM1t/8NPzIqC6f4vrXgehza",
      "include_colab_link": true
    },
    "kernelspec": {
      "name": "python3",
      "display_name": "Python 3"
    },
    "language_info": {
      "name": "python"
    }
  },
  "cells": [
    {
      "cell_type": "markdown",
      "metadata": {
        "id": "view-in-github",
        "colab_type": "text"
      },
      "source": [
        "<a href=\"https://colab.research.google.com/github/lee20061109/-/blob/main/%EB%AC%B8%EC%9E%90.ipynb\" target=\"_parent\"><img src=\"https://colab.research.google.com/assets/colab-badge.svg\" alt=\"Open In Colab\"/></a>"
      ]
    },
    {
      "cell_type": "code",
      "execution_count": 4,
      "metadata": {
        "colab": {
          "base_uri": "https://localhost:8080/"
        },
        "id": "pKQSWJCxQR8Z",
        "outputId": "6e789737-4c77-4a8b-c473-56198262debe"
      },
      "outputs": [
        {
          "output_type": "stream",
          "name": "stdout",
          "text": [
            "나는 아주 좋은 5다\n",
            "1972년 후\n",
            "나는 아주 좋은 오다\n",
            "나는 아주 좋은 오다. 1972년 후\n"
          ]
        }
      ],
      "source": [
        "print(\"나는 아주 좋은 %d다\" %5);\n",
        "num=1972\n",
        "print(\"%d년 후\" %num)\n",
        "print(\"나는 아주 좋은 %s다\" % \"오\")\n",
        "print(\"나는 아주 좋은 %s다. %d년 후\" % (\"오\",1972))"
      ]
    },
    {
      "cell_type": "code",
      "source": [
        "print(\"나는 %s이다\" %17)\n",
        "print(\"파이는 %s이다\" %3.14)\n",
        "print(\"로딩중 %d%%\" %99)"
      ],
      "metadata": {
        "colab": {
          "base_uri": "https://localhost:8080/"
        },
        "id": "7rVlAFz5SlvG",
        "outputId": "ee9fa966-89d6-4335-ff72-1ed3b2e6ed33"
      },
      "execution_count": 8,
      "outputs": [
        {
          "output_type": "stream",
          "name": "stdout",
          "text": [
            "나는 17이다\n",
            "파이는 3.14이다\n",
            "로딩중 99%\n"
          ]
        }
      ]
    },
    {
      "cell_type": "code",
      "source": [
        "a=\"Jinhae-gu\"\n",
        "print(a.count(\"h\"))\n",
        "b=\"Hello World!\"\n",
        "print(b.find(\"o\"))\n",
        "print(b.find(\"z\"))\n",
        "print(b.index(\"o\"))"
      ],
      "metadata": {
        "colab": {
          "base_uri": "https://localhost:8080/"
        },
        "id": "RvQw7RAESmZI",
        "outputId": "c977b27e-7605-4256-ba23-5fb3d72053e3"
      },
      "execution_count": 19,
      "outputs": [
        {
          "output_type": "stream",
          "name": "stdout",
          "text": [
            "1\n",
            "4\n",
            "-1\n",
            "4\n"
          ]
        }
      ]
    },
    {
      "cell_type": "code",
      "source": [
        "a= \"1234567890\"\n",
        "b=\"/\".join(a)\n",
        "print(b)\n",
        "c=\"Hi\"; d=\"hi\"\n",
        "print(c.upper())\n",
        "print(d.lower())\n",
        "e=\"   hello   \"\n",
        "print(e.lstrip())\n",
        "print(e.rstrip())\n",
        "print(e.strip())"
      ],
      "metadata": {
        "colab": {
          "base_uri": "https://localhost:8080/"
        },
        "id": "WOx2oc5wSm3S",
        "outputId": "3b95df1c-5e66-4bfb-8b25-95b69044bea7"
      },
      "execution_count": 26,
      "outputs": [
        {
          "output_type": "stream",
          "name": "stdout",
          "text": [
            "1/2/3/4/5/6/7/8/9/0\n",
            "HI\n",
            "hi\n",
            "hello   \n",
            "   hello\n",
            "hello\n"
          ]
        }
      ]
    },
    {
      "cell_type": "code",
      "source": [
        "a=\"lololol\"\n",
        "b=a.replace(\"l\",\"n\");print(b)\n",
        "c=a.replace(\"l\",\"n\",2);print(c)\n",
        "\n",
        "tmp=a[::-1]; print(tmp)\n",
        "tmp=a[::-1].replace(\"l\",\"n\",1); print(tmp)\n",
        "print(tmp)\n",
        "\n",
        "d=\"Hello World!\"\n",
        "e=d.split()\n",
        "print(e); print(e [3])"
      ],
      "metadata": {
        "colab": {
          "base_uri": "https://localhost:8080/",
          "height": 321
        },
        "id": "vIAnr-7rYLDM",
        "outputId": "fc96edc5-fd2b-4de3-b045-abceb4585de4"
      },
      "execution_count": 40,
      "outputs": [
        {
          "output_type": "stream",
          "name": "stdout",
          "text": [
            "nononon\n",
            "nonolol\n",
            "lololol\n",
            "nololol\n",
            "nololol\n",
            "['Hello', 'World!']\n"
          ]
        },
        {
          "output_type": "error",
          "ename": "IndexError",
          "evalue": "ignored",
          "traceback": [
            "\u001b[0;31m---------------------------------------------------------------------------\u001b[0m",
            "\u001b[0;31mIndexError\u001b[0m                                Traceback (most recent call last)",
            "\u001b[0;32m<ipython-input-40-079b9a98c923>\u001b[0m in \u001b[0;36m<module>\u001b[0;34m()\u001b[0m\n\u001b[1;32m      9\u001b[0m \u001b[0md\u001b[0m\u001b[0;34m=\u001b[0m\u001b[0;34m\"Hello World!\"\u001b[0m\u001b[0;34m\u001b[0m\u001b[0;34m\u001b[0m\u001b[0m\n\u001b[1;32m     10\u001b[0m \u001b[0me\u001b[0m\u001b[0;34m=\u001b[0m\u001b[0md\u001b[0m\u001b[0;34m.\u001b[0m\u001b[0msplit\u001b[0m\u001b[0;34m(\u001b[0m\u001b[0;34m)\u001b[0m\u001b[0;34m\u001b[0m\u001b[0;34m\u001b[0m\u001b[0m\n\u001b[0;32m---> 11\u001b[0;31m \u001b[0mprint\u001b[0m\u001b[0;34m(\u001b[0m\u001b[0me\u001b[0m\u001b[0;34m)\u001b[0m\u001b[0;34m;\u001b[0m \u001b[0mprint\u001b[0m\u001b[0;34m(\u001b[0m\u001b[0me\u001b[0m \u001b[0;34m[\u001b[0m\u001b[0;36m3\u001b[0m\u001b[0;34m]\u001b[0m\u001b[0;34m)\u001b[0m\u001b[0;34m\u001b[0m\u001b[0;34m\u001b[0m\u001b[0m\n\u001b[0m",
            "\u001b[0;31mIndexError\u001b[0m: list index out of range"
          ]
        }
      ]
    },
    {
      "cell_type": "code",
      "source": [
        "a=True ; b=False\n",
        "print(type(a))\n",
        "print(1==1); print(2<1)"
      ],
      "metadata": {
        "colab": {
          "base_uri": "https://localhost:8080/"
        },
        "id": "dYNa5FNRehcc",
        "outputId": "a4557b5c-b88b-4d69-fb0e-72564908fc4f"
      },
      "execution_count": 37,
      "outputs": [
        {
          "output_type": "stream",
          "name": "stdout",
          "text": [
            "<class 'bool'>\n",
            "True\n",
            "False\n"
          ]
        }
      ]
    },
    {
      "cell_type": "code",
      "source": [
        "print(bool(0))"
      ],
      "metadata": {
        "colab": {
          "base_uri": "https://localhost:8080/"
        },
        "id": "gxUbbeDieiF2",
        "outputId": "38b9be3a-8ed5-407c-f277-492c99586532"
      },
      "execution_count": 38,
      "outputs": [
        {
          "output_type": "stream",
          "name": "stdout",
          "text": [
            "False\n"
          ]
        }
      ]
    },
    {
      "cell_type": "code",
      "source": [
        "a=[1,2,3,4,5]\n",
        "print(type(a))\n",
        "while a :\n",
        "  print(a.pop())\n",
        "  print(a)\n",
        "print('end')\n"
      ],
      "metadata": {
        "colab": {
          "base_uri": "https://localhost:8080/"
        },
        "id": "anH9khVYeiXu",
        "outputId": "7558cb43-dc48-4a70-c517-ff0e53aa9834"
      },
      "execution_count": 42,
      "outputs": [
        {
          "output_type": "stream",
          "name": "stdout",
          "text": [
            "<class 'list'>\n",
            "5\n",
            "[1, 2, 3, 4]\n",
            "4\n",
            "[1, 2, 3]\n",
            "3\n",
            "[1, 2]\n",
            "2\n",
            "[1]\n",
            "1\n",
            "[]\n",
            "end\n"
          ]
        }
      ]
    },
    {
      "cell_type": "code",
      "source": [
        ""
      ],
      "metadata": {
        "id": "fimFy_Omeigz"
      },
      "execution_count": null,
      "outputs": []
    }
  ]
}